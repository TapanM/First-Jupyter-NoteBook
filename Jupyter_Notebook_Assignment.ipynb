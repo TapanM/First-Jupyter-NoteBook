{
 "cells": [
  {
   "cell_type": "markdown",
   "id": "8e6a0369-a340-4942-bb92-479fa902eeb8",
   "metadata": {},
   "source": [
    "# My Jupyter Notebook on IBM Watson Studio"
   ]
  },
  {
   "cell_type": "markdown",
   "id": "eade670d-0d0d-419b-b41c-8b965b4d4a43",
   "metadata": {},
   "source": [
    "__Tapan__ __Mandal__\n",
    "\n",
    "College Student"
   ]
  },
  {
   "cell_type": "markdown",
   "id": "ef263356-1018-4255-b9d2-da78c21705bb",
   "metadata": {},
   "source": [
    "*I am interested in data science beacause I want to predict the future while working with data and make my career as a data scientist.*"
   ]
  },
  {
   "cell_type": "markdown",
   "id": "daf9e181-bac6-44ad-b3ae-1dfa1bc91e98",
   "metadata": {},
   "source": [
    "### Below code is printing the sum of given number of natural numbers"
   ]
  },
  {
   "cell_type": "code",
   "execution_count": 1,
   "id": "de72eeb0-0a87-44bc-ae11-ebe64bcf80f0",
   "metadata": {
    "tags": []
   },
   "outputs": [
    {
     "name": "stdout",
     "output_type": "stream",
     "text": [
      "Sum of first ten natural number is :  55\n"
     ]
    }
   ],
   "source": [
    "def sum(n):\n",
    "    return n*(n+1)/2\n",
    "print(\"Sum of first ten natural number is : \", int(sum(10)))"
   ]
  },
  {
   "cell_type": "markdown",
   "id": "af63bb5b-60af-40bf-9f31-082790368ebe",
   "metadata": {},
   "source": [
    "### *1. Hyperlinks*\n",
    "<a href=\"https://www.linkedin.com/in/tapan-mandal-0b26a0245\" alt=\"Link Loading Failed..\" >Click here to see my Linkedin Profile</a>\n",
    "\n",
    "### *2. Bulleted Lists*\n",
    "* Python\n",
    "* R\n",
    "* HTML\n",
    "* CSS\n",
    "* Java Script\n",
    "* C++\n",
    "\n",
    "### *3. Code/Syntax Highlighting*\n",
    "```javascript\n",
    "var name = \"My name is Tapan Mandal\";\n",
    "console.log(name);\n",
    "```"
   ]
  }
 ],
 "metadata": {
  "kernelspec": {
   "display_name": "Python 3",
   "language": "python",
   "name": "python3"
  },
  "language_info": {
   "codemirror_mode": {
    "name": "ipython",
    "version": 3
   },
   "file_extension": ".py",
   "mimetype": "text/x-python",
   "name": "python",
   "nbconvert_exporter": "python",
   "pygments_lexer": "ipython3",
   "version": "3.11.2"
  },
  "vscode": {
   "interpreter": {
    "hash": "72b2382ece9768098284d92bbc69d35954e75b60d1e25897d1389c232f4796f0"
   }
  }
 },
 "nbformat": 4,
 "nbformat_minor": 5
}
